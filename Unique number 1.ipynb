{
 "cells": [
  {
   "cell_type": "code",
   "execution_count": null,
   "id": "c32b8d13",
   "metadata": {},
   "outputs": [],
   "source": [
    "## unique number 1"
   ]
  },
  {
   "cell_type": "code",
   "execution_count": 2,
   "id": "ed79ba5d",
   "metadata": {},
   "outputs": [
    {
     "name": "stdout",
     "output_type": "stream",
     "text": [
      "Enter the number of element in the array : 5\n",
      "1\n",
      "5\n",
      "3\n",
      "1\n",
      "5\n",
      "3\n"
     ]
    }
   ],
   "source": [
    "n=int(input(\"Enter the number of element in the array : \"))\n",
    "a=[]\n",
    "for i in range(n) :\n",
    "    x=int(input())\n",
    "    a.append(x)\n",
    "ans=0\n",
    "for i in range(n):\n",
    "    ans^=a[i]\n",
    "print(ans)"
   ]
  },
  {
   "cell_type": "code",
   "execution_count": null,
   "id": "6784df52",
   "metadata": {},
   "outputs": [],
   "source": []
  }
 ],
 "metadata": {
  "kernelspec": {
   "display_name": "Python 3 (ipykernel)",
   "language": "python",
   "name": "python3"
  },
  "language_info": {
   "codemirror_mode": {
    "name": "ipython",
    "version": 3
   },
   "file_extension": ".py",
   "mimetype": "text/x-python",
   "name": "python",
   "nbconvert_exporter": "python",
   "pygments_lexer": "ipython3",
   "version": "3.10.1"
  }
 },
 "nbformat": 4,
 "nbformat_minor": 5
}
